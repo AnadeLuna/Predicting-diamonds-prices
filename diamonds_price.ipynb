{
 "cells": [
  {
   "cell_type": "markdown",
   "id": "reported-august",
   "metadata": {},
   "source": [
    "## Diamonds_Price"
   ]
  },
  {
   "cell_type": "code",
   "execution_count": 106,
   "id": "twelve-pressing",
   "metadata": {},
   "outputs": [],
   "source": [
    "import pandas as pd\n",
    "from sklearn.model_selection import train_test_split\n",
    "from sklearn.preprocessing import StandardScaler\n",
    "from sklearn.linear_model import LinearRegression , Ridge, SGDRegressor\n",
    "from sklearn.metrics import mean_squared_error, r2_score\n",
    "from sklearn.pipeline import Pipeline"
   ]
  },
  {
   "cell_type": "code",
   "execution_count": 108,
   "id": "hungarian-plate",
   "metadata": {},
   "outputs": [],
   "source": [
    "diamonds_train = pd.read_csv(\"data/train.csv\")"
   ]
  },
  {
   "cell_type": "code",
   "execution_count": 109,
   "id": "sustainable-highlight",
   "metadata": {},
   "outputs": [
    {
     "data": {
      "text/html": [
       "<div>\n",
       "<style scoped>\n",
       "    .dataframe tbody tr th:only-of-type {\n",
       "        vertical-align: middle;\n",
       "    }\n",
       "\n",
       "    .dataframe tbody tr th {\n",
       "        vertical-align: top;\n",
       "    }\n",
       "\n",
       "    .dataframe thead th {\n",
       "        text-align: right;\n",
       "    }\n",
       "</style>\n",
       "<table border=\"1\" class=\"dataframe\">\n",
       "  <thead>\n",
       "    <tr style=\"text-align: right;\">\n",
       "      <th></th>\n",
       "      <th>id</th>\n",
       "      <th>carat</th>\n",
       "      <th>cut</th>\n",
       "      <th>color</th>\n",
       "      <th>clarity</th>\n",
       "      <th>depth</th>\n",
       "      <th>table</th>\n",
       "      <th>x</th>\n",
       "      <th>y</th>\n",
       "      <th>z</th>\n",
       "      <th>price</th>\n",
       "    </tr>\n",
       "  </thead>\n",
       "  <tbody>\n",
       "    <tr>\n",
       "      <th>0</th>\n",
       "      <td>0</td>\n",
       "      <td>1.50</td>\n",
       "      <td>Premium</td>\n",
       "      <td>F</td>\n",
       "      <td>VS2</td>\n",
       "      <td>61.5</td>\n",
       "      <td>58.0</td>\n",
       "      <td>7.32</td>\n",
       "      <td>7.34</td>\n",
       "      <td>4.51</td>\n",
       "      <td>9.588</td>\n",
       "    </tr>\n",
       "    <tr>\n",
       "      <th>1</th>\n",
       "      <td>1</td>\n",
       "      <td>2.01</td>\n",
       "      <td>Very Good</td>\n",
       "      <td>E</td>\n",
       "      <td>SI2</td>\n",
       "      <td>60.6</td>\n",
       "      <td>59.0</td>\n",
       "      <td>8.11</td>\n",
       "      <td>8.25</td>\n",
       "      <td>4.96</td>\n",
       "      <td>9.748</td>\n",
       "    </tr>\n",
       "    <tr>\n",
       "      <th>2</th>\n",
       "      <td>2</td>\n",
       "      <td>0.50</td>\n",
       "      <td>Ideal</td>\n",
       "      <td>E</td>\n",
       "      <td>SI1</td>\n",
       "      <td>61.6</td>\n",
       "      <td>57.0</td>\n",
       "      <td>5.13</td>\n",
       "      <td>5.09</td>\n",
       "      <td>3.15</td>\n",
       "      <td>7.255</td>\n",
       "    </tr>\n",
       "    <tr>\n",
       "      <th>3</th>\n",
       "      <td>3</td>\n",
       "      <td>0.25</td>\n",
       "      <td>Very Good</td>\n",
       "      <td>F</td>\n",
       "      <td>VVS2</td>\n",
       "      <td>61.6</td>\n",
       "      <td>57.0</td>\n",
       "      <td>4.05</td>\n",
       "      <td>4.08</td>\n",
       "      <td>2.50</td>\n",
       "      <td>6.450</td>\n",
       "    </tr>\n",
       "    <tr>\n",
       "      <th>4</th>\n",
       "      <td>4</td>\n",
       "      <td>0.52</td>\n",
       "      <td>Ideal</td>\n",
       "      <td>G</td>\n",
       "      <td>VS2</td>\n",
       "      <td>62.0</td>\n",
       "      <td>55.0</td>\n",
       "      <td>5.16</td>\n",
       "      <td>5.19</td>\n",
       "      <td>3.21</td>\n",
       "      <td>7.721</td>\n",
       "    </tr>\n",
       "  </tbody>\n",
       "</table>\n",
       "</div>"
      ],
      "text/plain": [
       "   id  carat        cut color clarity  depth  table     x     y     z  price\n",
       "0   0   1.50    Premium     F     VS2   61.5   58.0  7.32  7.34  4.51  9.588\n",
       "1   1   2.01  Very Good     E     SI2   60.6   59.0  8.11  8.25  4.96  9.748\n",
       "2   2   0.50      Ideal     E     SI1   61.6   57.0  5.13  5.09  3.15  7.255\n",
       "3   3   0.25  Very Good     F    VVS2   61.6   57.0  4.05  4.08  2.50  6.450\n",
       "4   4   0.52      Ideal     G     VS2   62.0   55.0  5.16  5.19  3.21  7.721"
      ]
     },
     "execution_count": 109,
     "metadata": {},
     "output_type": "execute_result"
    }
   ],
   "source": [
    "diamonds_train.head(5)"
   ]
  },
  {
   "cell_type": "code",
   "execution_count": 110,
   "id": "hawaiian-dividend",
   "metadata": {},
   "outputs": [
    {
     "data": {
      "text/plain": [
       "(40455, 11)"
      ]
     },
     "execution_count": 110,
     "metadata": {},
     "output_type": "execute_result"
    }
   ],
   "source": [
    "diamonds_train.shape"
   ]
  },
  {
   "cell_type": "code",
   "execution_count": 111,
   "id": "informal-parameter",
   "metadata": {
    "scrolled": false
   },
   "outputs": [
    {
     "data": {
      "text/plain": [
       "id         0\n",
       "carat      0\n",
       "cut        0\n",
       "color      0\n",
       "clarity    0\n",
       "depth      0\n",
       "table      0\n",
       "x          0\n",
       "y          0\n",
       "z          0\n",
       "price      0\n",
       "dtype: int64"
      ]
     },
     "execution_count": 111,
     "metadata": {},
     "output_type": "execute_result"
    }
   ],
   "source": [
    "diamonds_train.isna().sum()"
   ]
  },
  {
   "cell_type": "code",
   "execution_count": 112,
   "id": "written-matrix",
   "metadata": {},
   "outputs": [
    {
     "data": {
      "text/html": [
       "<div>\n",
       "<style scoped>\n",
       "    .dataframe tbody tr th:only-of-type {\n",
       "        vertical-align: middle;\n",
       "    }\n",
       "\n",
       "    .dataframe tbody tr th {\n",
       "        vertical-align: top;\n",
       "    }\n",
       "\n",
       "    .dataframe thead th {\n",
       "        text-align: right;\n",
       "    }\n",
       "</style>\n",
       "<table border=\"1\" class=\"dataframe\">\n",
       "  <thead>\n",
       "    <tr style=\"text-align: right;\">\n",
       "      <th></th>\n",
       "      <th>id</th>\n",
       "      <th>carat</th>\n",
       "      <th>depth</th>\n",
       "      <th>table</th>\n",
       "      <th>x</th>\n",
       "      <th>y</th>\n",
       "      <th>z</th>\n",
       "      <th>price</th>\n",
       "    </tr>\n",
       "  </thead>\n",
       "  <tbody>\n",
       "    <tr>\n",
       "      <th>id</th>\n",
       "      <td>1.000000</td>\n",
       "      <td>-0.006196</td>\n",
       "      <td>0.001098</td>\n",
       "      <td>-0.008829</td>\n",
       "      <td>-0.007112</td>\n",
       "      <td>-0.006420</td>\n",
       "      <td>-0.007766</td>\n",
       "      <td>-0.006926</td>\n",
       "    </tr>\n",
       "    <tr>\n",
       "      <th>carat</th>\n",
       "      <td>-0.006196</td>\n",
       "      <td>1.000000</td>\n",
       "      <td>0.025089</td>\n",
       "      <td>0.182590</td>\n",
       "      <td>0.974516</td>\n",
       "      <td>0.950563</td>\n",
       "      <td>0.947930</td>\n",
       "      <td>0.920878</td>\n",
       "    </tr>\n",
       "    <tr>\n",
       "      <th>depth</th>\n",
       "      <td>0.001098</td>\n",
       "      <td>0.025089</td>\n",
       "      <td>1.000000</td>\n",
       "      <td>-0.300152</td>\n",
       "      <td>-0.028389</td>\n",
       "      <td>-0.032561</td>\n",
       "      <td>0.091421</td>\n",
       "      <td>-0.000924</td>\n",
       "    </tr>\n",
       "    <tr>\n",
       "      <th>table</th>\n",
       "      <td>-0.008829</td>\n",
       "      <td>0.182590</td>\n",
       "      <td>-0.300152</td>\n",
       "      <td>1.000000</td>\n",
       "      <td>0.196031</td>\n",
       "      <td>0.184322</td>\n",
       "      <td>0.150142</td>\n",
       "      <td>0.158128</td>\n",
       "    </tr>\n",
       "    <tr>\n",
       "      <th>x</th>\n",
       "      <td>-0.007112</td>\n",
       "      <td>0.974516</td>\n",
       "      <td>-0.028389</td>\n",
       "      <td>0.196031</td>\n",
       "      <td>1.000000</td>\n",
       "      <td>0.973617</td>\n",
       "      <td>0.965597</td>\n",
       "      <td>0.957653</td>\n",
       "    </tr>\n",
       "    <tr>\n",
       "      <th>y</th>\n",
       "      <td>-0.006420</td>\n",
       "      <td>0.950563</td>\n",
       "      <td>-0.032561</td>\n",
       "      <td>0.184322</td>\n",
       "      <td>0.973617</td>\n",
       "      <td>1.000000</td>\n",
       "      <td>0.945958</td>\n",
       "      <td>0.934700</td>\n",
       "    </tr>\n",
       "    <tr>\n",
       "      <th>z</th>\n",
       "      <td>-0.007766</td>\n",
       "      <td>0.947930</td>\n",
       "      <td>0.091421</td>\n",
       "      <td>0.150142</td>\n",
       "      <td>0.965597</td>\n",
       "      <td>0.945958</td>\n",
       "      <td>1.000000</td>\n",
       "      <td>0.930157</td>\n",
       "    </tr>\n",
       "    <tr>\n",
       "      <th>price</th>\n",
       "      <td>-0.006926</td>\n",
       "      <td>0.920878</td>\n",
       "      <td>-0.000924</td>\n",
       "      <td>0.158128</td>\n",
       "      <td>0.957653</td>\n",
       "      <td>0.934700</td>\n",
       "      <td>0.930157</td>\n",
       "      <td>1.000000</td>\n",
       "    </tr>\n",
       "  </tbody>\n",
       "</table>\n",
       "</div>"
      ],
      "text/plain": [
       "             id     carat     depth     table         x         y         z  \\\n",
       "id     1.000000 -0.006196  0.001098 -0.008829 -0.007112 -0.006420 -0.007766   \n",
       "carat -0.006196  1.000000  0.025089  0.182590  0.974516  0.950563  0.947930   \n",
       "depth  0.001098  0.025089  1.000000 -0.300152 -0.028389 -0.032561  0.091421   \n",
       "table -0.008829  0.182590 -0.300152  1.000000  0.196031  0.184322  0.150142   \n",
       "x     -0.007112  0.974516 -0.028389  0.196031  1.000000  0.973617  0.965597   \n",
       "y     -0.006420  0.950563 -0.032561  0.184322  0.973617  1.000000  0.945958   \n",
       "z     -0.007766  0.947930  0.091421  0.150142  0.965597  0.945958  1.000000   \n",
       "price -0.006926  0.920878 -0.000924  0.158128  0.957653  0.934700  0.930157   \n",
       "\n",
       "          price  \n",
       "id    -0.006926  \n",
       "carat  0.920878  \n",
       "depth -0.000924  \n",
       "table  0.158128  \n",
       "x      0.957653  \n",
       "y      0.934700  \n",
       "z      0.930157  \n",
       "price  1.000000  "
      ]
     },
     "execution_count": 112,
     "metadata": {},
     "output_type": "execute_result"
    }
   ],
   "source": [
    "diamonds_train.corr()"
   ]
  },
  {
   "cell_type": "code",
   "execution_count": 113,
   "id": "settled-disease",
   "metadata": {},
   "outputs": [
    {
     "name": "stdout",
     "output_type": "stream",
     "text": [
      "<class 'pandas.core.frame.DataFrame'>\n",
      "RangeIndex: 40455 entries, 0 to 40454\n",
      "Data columns (total 11 columns):\n",
      " #   Column   Non-Null Count  Dtype  \n",
      "---  ------   --------------  -----  \n",
      " 0   id       40455 non-null  int64  \n",
      " 1   carat    40455 non-null  float64\n",
      " 2   cut      40455 non-null  object \n",
      " 3   color    40455 non-null  object \n",
      " 4   clarity  40455 non-null  object \n",
      " 5   depth    40455 non-null  float64\n",
      " 6   table    40455 non-null  float64\n",
      " 7   x        40455 non-null  float64\n",
      " 8   y        40455 non-null  float64\n",
      " 9   z        40455 non-null  float64\n",
      " 10  price    40455 non-null  float64\n",
      "dtypes: float64(7), int64(1), object(3)\n",
      "memory usage: 3.4+ MB\n"
     ]
    }
   ],
   "source": [
    "diamonds_train.info()"
   ]
  },
  {
   "cell_type": "markdown",
   "id": "private-consultancy",
   "metadata": {},
   "source": [
    "Después de comprabar que el dataset estuviera completo y limpio. Lo siguiente que hago es hacer una busqueda exhaustiva sobre el precio del Diamante. \n",
    "\n",
    "Las variables o features más influyentes sobre el precio del diamante son las 4C: `CARAT`,`CUT`,`COLOR`,`CLARITY`. \n",
    "\n",
    "Por otro lado, la variable que vamos a predecir es el precio. Entonces los modelos que desarollaré son modelos de regrsión. Y la métrica importante que debo sacar es el `mse`(mean square error).\n",
    "\n",
    "*Nota: Al tener varibales predictoras que tienen una fuerte correlación con la variable precio. Desarrollaré modelos líneales que la variación por pequeña que sea en una de ellas influirá en la variable precio.\n",
    "En caso de que hubiera sido lo contrario, me hubiera ido por los modelos TreeForest, Randomforest...ect."
   ]
  },
  {
   "cell_type": "code",
   "execution_count": 114,
   "id": "forward-policy",
   "metadata": {},
   "outputs": [],
   "source": [
    "diamonds_train_1 = pd.get_dummies(diamonds_train, drop_first=True)"
   ]
  },
  {
   "cell_type": "code",
   "execution_count": 115,
   "id": "light-parcel",
   "metadata": {},
   "outputs": [],
   "source": [
    "X = diamonds_train_1.drop(\"price\", axis=1)\n",
    "y = diamonds_train_1[\"price\"]"
   ]
  },
  {
   "cell_type": "code",
   "execution_count": 116,
   "id": "roman-farming",
   "metadata": {},
   "outputs": [
    {
     "data": {
      "text/plain": [
       "(0.030241507966882346, 0.04264021461302893)"
      ]
     },
     "execution_count": 116,
     "metadata": {},
     "output_type": "execute_result"
    }
   ],
   "source": [
    "# Modelo: LinearRegression\n",
    "\n",
    "X_train, X_test, y_train, y_test = train_test_split(X,y, random_state=666)\n",
    "\n",
    "pipe = Pipeline([\n",
    "    (\"scaler\", StandardScaler()),\n",
    "    (\"linear\", LinearRegression())\n",
    "])\n",
    "\n",
    "# Standarization & model Training\n",
    "pipe.fit(X_train, y_train)\n",
    "\n",
    "# Predicting\n",
    "y_pred_train = pipe.predict(X_train)\n",
    "y_pred_test = pipe.predict(X_test)\n",
    "\n",
    "# Metrics\n",
    "mse_train = mean_squared_error(y_pred_train,y_train)\n",
    "mse_test = mean_squared_error(y_pred_test,y_test)\n",
    "\n",
    "mse_train, mse_test"
   ]
  },
  {
   "cell_type": "code",
   "execution_count": 117,
   "id": "musical-length",
   "metadata": {},
   "outputs": [
    {
     "data": {
      "text/plain": [
       "(0.9697133122558786, 0.9577956030181125)"
      ]
     },
     "execution_count": 117,
     "metadata": {},
     "output_type": "execute_result"
    }
   ],
   "source": [
    "#r2 LinearRegression\n",
    "r2_lr_train = r2_score(y_pred_train,y_train)\n",
    "r2_lr_test = r2_score(y_pred_test,y_test)\n",
    "r2_lr_train,r2_lr_test"
   ]
  },
  {
   "cell_type": "code",
   "execution_count": 118,
   "id": "current-spider",
   "metadata": {},
   "outputs": [
    {
     "data": {
      "text/plain": [
       "(0.0302416484186317, 0.042612593874342714)"
      ]
     },
     "execution_count": 118,
     "metadata": {},
     "output_type": "execute_result"
    }
   ],
   "source": [
    "# Modelo: Ridge\n",
    "\n",
    "X2_train, X2_test, y2_train, y2_test = train_test_split(X,y, random_state=666)\n",
    "\n",
    "pipe = Pipeline([\n",
    "    (\"scaler\", StandardScaler()),\n",
    "    (\"linear\", Ridge())\n",
    "])\n",
    "\n",
    "# Standarization & model Training\n",
    "pipe.fit(X2_train, y2_train)\n",
    "\n",
    "# Predicting\n",
    "y2_pred_train = pipe.predict(X2_train)\n",
    "y2_pred_test = pipe.predict(X2_test)\n",
    "\n",
    "# Metrics\n",
    "mse2_train = mean_squared_error(y2_pred_train,y2_train)\n",
    "mse2_test = mean_squared_error(y2_pred_test,y2_test)\n",
    "\n",
    "mse2_train, mse2_test"
   ]
  },
  {
   "cell_type": "code",
   "execution_count": 119,
   "id": "analyzed-parish",
   "metadata": {},
   "outputs": [
    {
     "data": {
      "text/plain": [
       "(0.9697084137366769, 0.9578155756209211)"
      ]
     },
     "execution_count": 119,
     "metadata": {},
     "output_type": "execute_result"
    }
   ],
   "source": [
    "#r2 Ridge\n",
    "r2_rd_train = r2_score(y2_pred_train,y2_train)\n",
    "r2_rd_test = r2_score(y2_pred_test,y2_test)\n",
    "r2_rd_train,r2_rd_test"
   ]
  },
  {
   "cell_type": "code",
   "execution_count": 120,
   "id": "practical-suggestion",
   "metadata": {},
   "outputs": [
    {
     "data": {
      "text/plain": [
       "(1.028749770817519, 1.0291314727093757)"
      ]
     },
     "execution_count": 120,
     "metadata": {},
     "output_type": "execute_result"
    }
   ],
   "source": [
    "# Modelo: Lasso()\n",
    "\n",
    "X3_train, X3_test, y3_train, y3_test = train_test_split(X,y, random_state=666)\n",
    "\n",
    "pipe = Pipeline([\n",
    "    (\"scaler\", StandardScaler()),\n",
    "    (\"linear\", Lasso())\n",
    "])\n",
    "\n",
    "# Standarization & model Training\n",
    "pipe.fit(X3_train, y3_train)\n",
    "\n",
    "# Predicting\n",
    "y3_pred_train = pipe.predict(X3_train)\n",
    "y3_pred_test = pipe.predict(X3_test)\n",
    "\n",
    "# Metrics\n",
    "mse3_train = mean_squared_error(y3_pred_train,y3_train)\n",
    "mse3_test = mean_squared_error(y3_pred_test,y3_test)\n",
    "\n",
    "mse3_train, mse3_test"
   ]
  },
  {
   "cell_type": "code",
   "execution_count": 121,
   "id": "approved-default",
   "metadata": {},
   "outputs": [
    {
     "data": {
      "text/plain": [
       "(-3.260238161153704e+29, -8.153619556836261e+28)"
      ]
     },
     "execution_count": 121,
     "metadata": {},
     "output_type": "execute_result"
    }
   ],
   "source": [
    "#r2 Lasso\n",
    "r2_ls_train = r2_score(y3_pred_train,y3_train)\n",
    "r2_ls_test = r2_score(y3_pred_test,y3_test)\n",
    "r2_ls_train,r2_ls_test"
   ]
  },
  {
   "cell_type": "code",
   "execution_count": 122,
   "id": "timely-newcastle",
   "metadata": {},
   "outputs": [
    {
     "data": {
      "text/plain": [
       "(0.03142861911724781, 0.04248486639508702)"
      ]
     },
     "execution_count": 122,
     "metadata": {},
     "output_type": "execute_result"
    }
   ],
   "source": [
    "# Modelo: SGDRegressor()\n",
    "\n",
    "X4_train, X4_test, y4_train, y4_test = train_test_split(X,y, random_state=666)\n",
    "\n",
    "pipe = Pipeline([\n",
    "    (\"scaler\", StandardScaler()),\n",
    "    (\"linear\", SGDRegressor())\n",
    "])\n",
    "\n",
    "# Standarization & model Training\n",
    "pipe.fit(X4_train, y4_train)\n",
    "\n",
    "# Predicting\n",
    "y4_pred_train = pipe.predict(X4_train)\n",
    "y4_pred_test = pipe.predict(X4_test)\n",
    "\n",
    "# Metrics\n",
    "mse4_train = mean_squared_error(y4_pred_train,y4_train)\n",
    "mse4_test = mean_squared_error(y4_pred_test,y4_test)\n",
    "\n",
    "mse4_train, mse4_test"
   ]
  },
  {
   "cell_type": "code",
   "execution_count": 123,
   "id": "large-impact",
   "metadata": {},
   "outputs": [
    {
     "data": {
      "text/plain": [
       "(0.9664693669443936, 0.9551969409474979)"
      ]
     },
     "execution_count": 123,
     "metadata": {},
     "output_type": "execute_result"
    }
   ],
   "source": [
    "#r2 SGDRegressor\n",
    "r2_sgd_train = r2_score(y4_pred_train,y4_train)\n",
    "r2_sgd_test = r2_score(y4_pred_test,y4_test)\n",
    "r2_sgd_train,r2_sgd_test"
   ]
  },
  {
   "cell_type": "markdown",
   "id": "blond-reporter",
   "metadata": {},
   "source": [
    "Conclusión: El mejor modelo de los 4 que he calculado es `LinearRegression` y muy seguido está `Ridge`"
   ]
  },
  {
   "cell_type": "markdown",
   "id": "rational-comedy",
   "metadata": {},
   "source": [
    "## LinearRegression"
   ]
  },
  {
   "cell_type": "code",
   "execution_count": 129,
   "id": "frozen-chrome",
   "metadata": {
    "scrolled": true
   },
   "outputs": [
    {
     "data": {
      "text/plain": [
       "array([9.39481495, 9.76373357, 7.24910373, ..., 9.37423225, 9.95501225,\n",
       "       7.15090856])"
      ]
     },
     "execution_count": 129,
     "metadata": {},
     "output_type": "execute_result"
    }
   ],
   "source": [
    "# Modelo LinearRegression():\n",
    "scaler = StandardScaler()\n",
    "X = scaler.fit_transform(X)\n",
    "\n",
    "modelo = LinearRegression()\n",
    "\n",
    "modelo.fit(X,y)\n",
    "\n",
    "y_pred_train = modelo.predict(X)\n",
    "y_pred_train"
   ]
  },
  {
   "cell_type": "code",
   "execution_count": 126,
   "id": "tested-minister",
   "metadata": {},
   "outputs": [],
   "source": [
    "#Importo los datos test y lo paso a dummies:\n",
    "\n",
    "diamonds_test = pd.read_csv(\"data/test.csv\")\n",
    "X_test = pd.get_dummies(diamonds_test, drop_first=True)"
   ]
  },
  {
   "cell_type": "code",
   "execution_count": 127,
   "id": "collected-place",
   "metadata": {},
   "outputs": [],
   "source": [
    "#Pregigo la y de test.\n",
    "X_test = scaler.fit_transform(X_test)\n",
    "y_pred_test = modelo.predict(X_test)\n",
    "y_pred_test"
   ]
  },
  {
   "cell_type": "code",
   "execution_count": 130,
   "id": "surface-rubber",
   "metadata": {},
   "outputs": [
    {
     "data": {
      "text/plain": [
       "0.033182417346858686"
      ]
     },
     "execution_count": 130,
     "metadata": {},
     "output_type": "execute_result"
    }
   ],
   "source": [
    "#Calculo el mean square error de train puesto que de test no tengo la y.\n",
    "mse_train = mean_squared_error(y_pred_train,y)\n",
    "mse_train"
   ]
  },
  {
   "cell_type": "code",
   "execution_count": 151,
   "id": "precise-alignment",
   "metadata": {},
   "outputs": [],
   "source": [
    "diamonds_test[\"price\"] = y_pred_test"
   ]
  },
  {
   "cell_type": "code",
   "execution_count": 153,
   "id": "humanitarian-center",
   "metadata": {
    "scrolled": true
   },
   "outputs": [
    {
     "data": {
      "text/plain": [
       "Index(['id', 'carat', 'cut', 'color', 'clarity', 'depth', 'table', 'x', 'y',\n",
       "       'z', 'price'],\n",
       "      dtype='object')"
      ]
     },
     "execution_count": 153,
     "metadata": {},
     "output_type": "execute_result"
    }
   ],
   "source": [
    "diamonds_test.columns"
   ]
  },
  {
   "cell_type": "code",
   "execution_count": 155,
   "id": "rental-gothic",
   "metadata": {},
   "outputs": [],
   "source": [
    "diamonds_price = diamonds_test.drop(columns=['carat', 'cut', 'color', 'clarity', 'depth', 'table', 'x', 'y','z'], axis=1)"
   ]
  },
  {
   "cell_type": "code",
   "execution_count": 162,
   "id": "sustained-hollow",
   "metadata": {},
   "outputs": [],
   "source": [
    "diamonds_price.to_csv(\"diamonds_price.csv\",header= True, index = False)"
   ]
  }
 ],
 "metadata": {
  "kernelspec": {
   "display_name": "Python 3",
   "language": "python",
   "name": "python3"
  },
  "language_info": {
   "codemirror_mode": {
    "name": "ipython",
    "version": 3
   },
   "file_extension": ".py",
   "mimetype": "text/x-python",
   "name": "python",
   "nbconvert_exporter": "python",
   "pygments_lexer": "ipython3",
   "version": "3.9.1"
  }
 },
 "nbformat": 4,
 "nbformat_minor": 5
}
